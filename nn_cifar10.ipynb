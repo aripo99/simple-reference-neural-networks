{
  "nbformat": 4,
  "nbformat_minor": 0,
  "metadata": {
    "colab": {
      "name": "nn_cifar10.ipynb",
      "provenance": [],
      "collapsed_sections": [],
      "authorship_tag": "ABX9TyNHIUq7+eOLCJ/F12S0cTR+",
      "include_colab_link": true
    },
    "kernelspec": {
      "name": "python3",
      "display_name": "Python 3"
    },
    "language_info": {
      "name": "python"
    }
  },
  "cells": [
    {
      "cell_type": "markdown",
      "metadata": {
        "id": "view-in-github",
        "colab_type": "text"
      },
      "source": [
        "<a href=\"https://colab.research.google.com/github/aripo99/Simple_Networks/blob/main/nn_cifar10.ipynb\" target=\"_parent\"><img src=\"https://colab.research.google.com/assets/colab-badge.svg\" alt=\"Open In Colab\"/></a>"
      ]
    },
    {
      "cell_type": "code",
      "metadata": {
        "id": "eN0IARic4WW4"
      },
      "source": [
        "import torch\n",
        "import torch.nn as nn\n",
        "from torchvision import datasets\n",
        "from torchvision import transforms\n",
        "import torch.nn.functional as F\n",
        "from torch.utils.data import DataLoader\n",
        "import torch.optim as optim"
      ],
      "execution_count": 78,
      "outputs": []
    },
    {
      "cell_type": "code",
      "metadata": {
        "colab": {
          "base_uri": "https://localhost:8080/"
        },
        "id": "7HAMQ7j3-WEF",
        "outputId": "3b46f49e-70de-4adc-c833-3f96309f8580"
      },
      "source": [
        "device = torch.device(\"cuda\" if torch.cuda.is_available() else \"cpu\")\n",
        "print(device)"
      ],
      "execution_count": 79,
      "outputs": [
        {
          "output_type": "stream",
          "text": [
            "cpu\n"
          ],
          "name": "stdout"
        }
      ]
    },
    {
      "cell_type": "code",
      "metadata": {
        "colab": {
          "base_uri": "https://localhost:8080/"
        },
        "id": "0Fu6YZAN4Z93",
        "outputId": "df5d61be-3172-4e27-f08f-535b340eca12"
      },
      "source": [
        "cifar10 = datasets.CIFAR10(\"./\", train=True, download=True,\\\n",
        "                    transform=transforms.Compose([transforms.ToTensor(), transforms.Normalize((0.4915, 0.4823, 0.4), # mean\n",
        "                                                                                              (0.2470, 0.2435, 0.2616))])) # std\n",
        "cifar10_val = datasets.CIFAR10(\"./\", train=False, download=True,\\\n",
        "                    transform=transforms.Compose([transforms.ToTensor(), transforms.Normalize((0.4915, 0.4823, 0.4), \n",
        "                                                                                              (0.2470, 0.2435, 0.2616))]))"
      ],
      "execution_count": 80,
      "outputs": [
        {
          "output_type": "stream",
          "text": [
            "Files already downloaded and verified\n",
            "Files already downloaded and verified\n"
          ],
          "name": "stdout"
        }
      ]
    },
    {
      "cell_type": "code",
      "metadata": {
        "colab": {
          "base_uri": "https://localhost:8080/"
        },
        "id": "q0So1sCQ41rH",
        "outputId": "8092d59c-d4ce-4b18-eb11-e8b656e7843e"
      },
      "source": [
        "print(len(cifar10), len(cifar10_val))"
      ],
      "execution_count": 81,
      "outputs": [
        {
          "output_type": "stream",
          "text": [
            "50000 10000\n"
          ],
          "name": "stdout"
        }
      ]
    },
    {
      "cell_type": "code",
      "metadata": {
        "id": "WQXIFzxZ5JOT"
      },
      "source": [
        "img, label = cifar10[99]\n",
        "print(img, label)"
      ],
      "execution_count": null,
      "outputs": []
    },
    {
      "cell_type": "code",
      "metadata": {
        "id": "S-r3-TpD5Ydt"
      },
      "source": [
        "batch_size = 1\n",
        "cifar10_train = DataLoader(cifar10, batch_size=batch_size)\n",
        "cifar10_test = DataLoader(cifar10_val)"
      ],
      "execution_count": 83,
      "outputs": []
    },
    {
      "cell_type": "code",
      "metadata": {
        "colab": {
          "base_uri": "https://localhost:8080/"
        },
        "id": "6n1o6fn56Kb7",
        "outputId": "942d4465-179a-4d00-b70a-f05114e223f7"
      },
      "source": [
        "for batch in cifar10_train:\n",
        "    print(batch[0].shape, batch[1].shape, batch[1])\n",
        "    break"
      ],
      "execution_count": 84,
      "outputs": [
        {
          "output_type": "stream",
          "text": [
            "torch.Size([1, 3, 32, 32]) torch.Size([1]) tensor([6])\n"
          ],
          "name": "stdout"
        }
      ]
    },
    {
      "cell_type": "code",
      "metadata": {
        "id": "we1-qK70ZqdF"
      },
      "source": [
        "# Neural Network using Sequential API\n",
        "network = nn.Sequential(\n",
        "    nn.Linear(3072, 512),\n",
        "    nn.Tanh(),\n",
        "    nn.Linear(512, 10)\n",
        ")"
      ],
      "execution_count": 93,
      "outputs": []
    },
    {
      "cell_type": "code",
      "metadata": {
        "id": "NOlf1i6C6RbL"
      },
      "source": [
        "class Network(nn.Module):\n",
        "    def __init__(self):\n",
        "        super(Network, self).__init__()\n",
        "        self.input = nn.Linear(3072, 512)\n",
        "        self.output = nn.Linear(512, 10) # 10 classes\n",
        "    \n",
        "    def forward(self, x):\n",
        "        x = torch.relu(self.input(x))\n",
        "        x = self.output(x)\n",
        "        return x"
      ],
      "execution_count": null,
      "outputs": []
    },
    {
      "cell_type": "code",
      "metadata": {
        "colab": {
          "base_uri": "https://localhost:8080/"
        },
        "id": "i1vOrnzN8lpa",
        "outputId": "fbcf56dd-3455-41bd-d06a-0c03d56f6513"
      },
      "source": [
        "EPOCHS = 2\n",
        "criterion = nn.CrossEntropyLoss()\n",
        "# network = Network().to(device)\n",
        "network.to(device) # using sequential\n",
        "optimizer = optim.SGD(network.parameters(), lr=0.01) \n",
        "\n",
        "network.train()\n",
        "\n",
        "loss_in_epoch = []\n",
        "for epoch in range(EPOCHS):\n",
        "    for batch in cifar10_train:\n",
        "        optimizer.zero_grad()\n",
        "        image = batch[0].to(device)\n",
        "        label = batch[1].to(device)\n",
        "\n",
        "        out = network(image.view(-1).unsqueeze(0))\n",
        "        loss = criterion(out, torch.tensor([label]))\n",
        "\n",
        "        loss.backward()\n",
        "        optimizer.step()\n",
        "    \n",
        "    loss_in_epoch.append(loss.item())\n",
        "    print(\"Epoch: {} \\n Loss: {}\".format(epoch, loss.item()))\n"
      ],
      "execution_count": 91,
      "outputs": [
        {
          "output_type": "stream",
          "text": [
            "Epoch: 0 \n",
            " Loss: 3.036949872970581\n",
            "Epoch: 1 \n",
            " Loss: 4.406350612640381\n"
          ],
          "name": "stdout"
        }
      ]
    },
    {
      "cell_type": "code",
      "metadata": {
        "colab": {
          "base_uri": "https://localhost:8080/"
        },
        "id": "b060b9F8-CT8",
        "outputId": "d5ab41d0-30ea-40f8-8365-9d9db32d8f2c"
      },
      "source": [
        "correct = 0\n",
        "total = 0\n",
        "\n",
        "with torch.no_grad():\n",
        "    for img, label in cifar10_test:\n",
        "        outputs = network(img.view(batch_size, -1))\n",
        "        _, predicted = torch.max(outputs, dim=1)\n",
        "        total += label.shape[0]\n",
        "        correct += int((predicted == label).sum())\n",
        "\n",
        "print(\"Accuracy: {}\".format(correct/total))"
      ],
      "execution_count": 92,
      "outputs": [
        {
          "output_type": "stream",
          "text": [
            "Accuracy: 0.2078\n"
          ],
          "name": "stdout"
        }
      ]
    },
    {
      "cell_type": "code",
      "metadata": {
        "id": "wqd38FWgGNrv"
      },
      "source": [
        ""
      ],
      "execution_count": null,
      "outputs": []
    }
  ]
}